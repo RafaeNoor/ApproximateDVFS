{
  "nbformat": 4,
  "nbformat_minor": 0,
  "metadata": {
    "colab": {
      "name": "KerasWeightsToText.ipynb",
      "provenance": []
    },
    "kernelspec": {
      "name": "python3",
      "display_name": "Python 3"
    },
    "language_info": {
      "name": "python"
    }
  },
  "cells": [
    {
      "cell_type": "code",
      "metadata": {
        "id": "_OIEZrbyqAs_"
      },
      "source": [
        "import tensorflow as tf\n",
        "from tensorflow import keras\n",
        "from tensorflow.keras import layers\n",
        "import numpy as np"
      ],
      "execution_count": null,
      "outputs": []
    },
    {
      "cell_type": "code",
      "metadata": {
        "colab": {
          "base_uri": "https://localhost:8080/"
        },
        "id": "phCkAKx6qYKN",
        "outputId": "81f0a813-c260-45c1-83fa-0cbb8ca03195"
      },
      "source": [
        "model = keras.Sequential(\n",
        "    [\n",
        "        #layers.Dense(40, activation=\"relu\", name=\"layer1\", kernel_initializer='random_normal'),\n",
        "        layers.Dense(60, input_shape=(1,40) , use_bias=False ,activation=\"relu\", name=\"layer2\", kernel_initializer='random_normal'),\n",
        "        layers.Dense(80, activation=\"relu\", use_bias=False , name=\"layer3\", kernel_initializer='random_normal'),\n",
        "        layers.Dense(60, activation=\"relu\", use_bias=False , name=\"layer4\", kernel_initializer='random_normal'),\n",
        "        layers.Dense(40, activation=\"relu\", use_bias=False , name=\"layer5\", kernel_initializer='random_normal'),\n",
        "        layers.Dense(2 , activation=\"relu\", use_bias=False , name=\"layer6\", kernel_initializer='random_normal'),\n",
        "    ]\n",
        ")\n",
        "# Call model on a test input\n",
        "x = tf.ones((1, 40))\n",
        "print(x)"
      ],
      "execution_count": null,
      "outputs": [
        {
          "output_type": "stream",
          "text": [
            "tf.Tensor(\n",
            "[[1. 1. 1. 1. 1. 1. 1. 1. 1. 1. 1. 1. 1. 1. 1. 1. 1. 1. 1. 1. 1. 1. 1. 1.\n",
            "  1. 1. 1. 1. 1. 1. 1. 1. 1. 1. 1. 1. 1. 1. 1. 1.]], shape=(1, 40), dtype=float32)\n"
          ],
          "name": "stdout"
        }
      ]
    },
    {
      "cell_type": "code",
      "metadata": {
        "id": "RVWlzx1ArVHN"
      },
      "source": [
        "result = model(x)"
      ],
      "execution_count": null,
      "outputs": []
    },
    {
      "cell_type": "code",
      "metadata": {
        "colab": {
          "base_uri": "https://localhost:8080/"
        },
        "id": "v7FOhgj2rY73",
        "outputId": "82622da7-d4c6-447e-e130-e8c264ea134c"
      },
      "source": [
        "print(result)"
      ],
      "execution_count": null,
      "outputs": [
        {
          "output_type": "stream",
          "text": [
            "tf.Tensor([[0.         0.00052525]], shape=(1, 2), dtype=float32)\n"
          ],
          "name": "stdout"
        }
      ]
    },
    {
      "cell_type": "code",
      "metadata": {
        "id": "agaeRua2rpB5"
      },
      "source": [
        "l0_weight = model.layers[0].get_weights()"
      ],
      "execution_count": null,
      "outputs": []
    },
    {
      "cell_type": "code",
      "metadata": {
        "colab": {
          "base_uri": "https://localhost:8080/"
        },
        "id": "DKUaMQRItfHb",
        "outputId": "e7e569c9-17d5-42fa-ea63-815740d866b6"
      },
      "source": [
        "print(len(l0_weight))"
      ],
      "execution_count": null,
      "outputs": [
        {
          "output_type": "stream",
          "text": [
            "1\n"
          ],
          "name": "stdout"
        }
      ]
    },
    {
      "cell_type": "code",
      "metadata": {
        "colab": {
          "base_uri": "https://localhost:8080/"
        },
        "id": "Wn2bab62t4M9",
        "outputId": "8b1a60c1-53c2-40de-ff4a-ab4dfdce2377"
      },
      "source": [
        "print(l0_weight[0].shape)"
      ],
      "execution_count": null,
      "outputs": [
        {
          "output_type": "stream",
          "text": [
            "(40, 60)\n"
          ],
          "name": "stdout"
        }
      ]
    },
    {
      "cell_type": "code",
      "metadata": {
        "id": "mZEGwriHuDmo"
      },
      "source": [
        "def convert_weights_to_rowmajor(DNN):\n",
        "  weights = []\n",
        "  \n",
        "  for layer in DNN.layers:\n",
        "    layer_weights = layer.get_weights()[0]\n",
        "    num_rows = layer_weights.shape[0]\n",
        "\n",
        "    for r in range(0,num_rows):\n",
        "      weights = weights + list(layer_weights[r, :])\n",
        "  \n",
        "  weights = np.array(weights)\n",
        "  return weights\n",
        "\n",
        "def save_weights_to_text(weights, fname = \"weights.txt\"):\n",
        "  np.savetxt(fname,weights)\n"
      ],
      "execution_count": null,
      "outputs": []
    },
    {
      "cell_type": "code",
      "metadata": {
        "id": "bgflwyLMvb2z"
      },
      "source": [
        ""
      ],
      "execution_count": null,
      "outputs": []
    },
    {
      "cell_type": "code",
      "metadata": {
        "id": "AKtrYKqKvbJ1"
      },
      "source": [
        ""
      ],
      "execution_count": null,
      "outputs": []
    },
    {
      "cell_type": "markdown",
      "metadata": {
        "id": "3gBNGmh8vaOj"
      },
      "source": [
        ""
      ]
    },
    {
      "cell_type": "code",
      "metadata": {
        "id": "heHO5evuu0bF"
      },
      "source": [
        "linear_weights = convert_weights_to_rowmajor(model)"
      ],
      "execution_count": null,
      "outputs": []
    },
    {
      "cell_type": "code",
      "metadata": {
        "id": "0UcdTJ-xwf9d"
      },
      "source": [
        "save_weights_to_text(linear_weights)"
      ],
      "execution_count": null,
      "outputs": []
    },
    {
      "cell_type": "code",
      "metadata": {
        "id": "piRF0fNiwffj"
      },
      "source": [
        ""
      ],
      "execution_count": null,
      "outputs": []
    },
    {
      "cell_type": "code",
      "metadata": {
        "colab": {
          "base_uri": "https://localhost:8080/"
        },
        "id": "ENPBJHDcvGOr",
        "outputId": "6efbbe3a-0a44-4bf8-b4dc-197946ecc586"
      },
      "source": [
        "print(linear_weights.shape)"
      ],
      "execution_count": null,
      "outputs": [
        {
          "output_type": "stream",
          "text": [
            "(14480,)\n"
          ],
          "name": "stdout"
        }
      ]
    },
    {
      "cell_type": "code",
      "metadata": {
        "colab": {
          "base_uri": "https://localhost:8080/"
        },
        "id": "Bphj9hrEr7oC",
        "outputId": "7a3e9c2a-1f73-4204-8ec5-f9b8dd10b742"
      },
      "source": [
        "for layer in model.layers: print(layer.get_weights())"
      ],
      "execution_count": null,
      "outputs": [
        {
          "output_type": "stream",
          "text": [
            "[array([[-0.06139717,  0.0636831 ,  0.05425245, ...,  0.04771103,\n",
            "        -0.03422068,  0.02431224],\n",
            "       [ 0.01791389,  0.03180794, -0.05115148, ..., -0.01691396,\n",
            "         0.01637596, -0.00849945],\n",
            "       [ 0.04687477, -0.01991544,  0.02815682, ..., -0.04292168,\n",
            "         0.03032881, -0.09554466],\n",
            "       ...,\n",
            "       [ 0.02440597, -0.01409995, -0.01633786, ..., -0.04618528,\n",
            "         0.02931215, -0.03462642],\n",
            "       [-0.01836794, -0.04025077, -0.08341583, ...,  0.04353213,\n",
            "        -0.05167137, -0.04641451],\n",
            "       [-0.09484527, -0.05359443, -0.00935534, ...,  0.0004544 ,\n",
            "        -0.01216781,  0.06607714]], dtype=float32), array([0., 0., 0., 0., 0., 0., 0., 0., 0., 0., 0., 0., 0., 0., 0., 0., 0.,\n",
            "       0., 0., 0., 0., 0., 0., 0., 0., 0., 0., 0., 0., 0., 0., 0., 0., 0.,\n",
            "       0., 0., 0., 0., 0., 0., 0., 0., 0., 0., 0., 0., 0., 0., 0., 0., 0.,\n",
            "       0., 0., 0., 0., 0., 0., 0., 0., 0.], dtype=float32)]\n",
            "[array([[-0.00437478,  0.02821529, -0.03996552, ..., -0.02757089,\n",
            "        -0.00485506,  0.05540457],\n",
            "       [-0.02114322,  0.06332045,  0.02268967, ..., -0.10501615,\n",
            "         0.03611443, -0.0277328 ],\n",
            "       [-0.07654769, -0.00106943, -0.03418604, ..., -0.03203069,\n",
            "         0.02457513, -0.00508867],\n",
            "       ...,\n",
            "       [ 0.00776306, -0.00654321,  0.04469306, ..., -0.06209235,\n",
            "         0.04877284, -0.02918085],\n",
            "       [ 0.01693011, -0.05442123, -0.04295719, ..., -0.00066997,\n",
            "         0.03026957, -0.02396525],\n",
            "       [-0.0440716 ,  0.00308399,  0.04539802, ..., -0.00071752,\n",
            "        -0.08987024, -0.02177588]], dtype=float32), array([0., 0., 0., 0., 0., 0., 0., 0., 0., 0., 0., 0., 0., 0., 0., 0., 0.,\n",
            "       0., 0., 0., 0., 0., 0., 0., 0., 0., 0., 0., 0., 0., 0., 0., 0., 0.,\n",
            "       0., 0., 0., 0., 0., 0., 0., 0., 0., 0., 0., 0., 0., 0., 0., 0., 0.,\n",
            "       0., 0., 0., 0., 0., 0., 0., 0., 0., 0., 0., 0., 0., 0., 0., 0., 0.,\n",
            "       0., 0., 0., 0., 0., 0., 0., 0., 0., 0., 0., 0.], dtype=float32)]\n",
            "[array([[ 0.03691262,  0.08254285,  0.05076593, ..., -0.01336002,\n",
            "         0.04220728,  0.00315126],\n",
            "       [-0.00978495,  0.02577282,  0.00374191, ...,  0.01280951,\n",
            "         0.02309482,  0.01586748],\n",
            "       [ 0.06265987, -0.04041939,  0.01883609, ...,  0.05728281,\n",
            "        -0.01307225, -0.06140941],\n",
            "       ...,\n",
            "       [-0.09845725, -0.03059119,  0.01532999, ...,  0.0098893 ,\n",
            "         0.05447412, -0.01387536],\n",
            "       [-0.02001908, -0.06225647,  0.06670313, ...,  0.04605518,\n",
            "        -0.02141242, -0.0873113 ],\n",
            "       [-0.01212703,  0.01990305,  0.05700175, ...,  0.07907196,\n",
            "        -0.01015354, -0.009094  ]], dtype=float32), array([0., 0., 0., 0., 0., 0., 0., 0., 0., 0., 0., 0., 0., 0., 0., 0., 0.,\n",
            "       0., 0., 0., 0., 0., 0., 0., 0., 0., 0., 0., 0., 0., 0., 0., 0., 0.,\n",
            "       0., 0., 0., 0., 0., 0., 0., 0., 0., 0., 0., 0., 0., 0., 0., 0., 0.,\n",
            "       0., 0., 0., 0., 0., 0., 0., 0., 0.], dtype=float32)]\n",
            "[array([[ 2.9180726e-02,  8.5286401e-02, -9.2427057e-05, ...,\n",
            "        -1.1980865e-01, -2.1878704e-02,  8.4874325e-02],\n",
            "       [-3.6706403e-02,  2.6397020e-02,  5.7545146e-03, ...,\n",
            "         2.0508504e-02, -6.2043937e-03,  3.5442319e-02],\n",
            "       [-1.0058665e-02,  2.3114590e-03, -3.3444274e-02, ...,\n",
            "        -4.3970412e-03,  2.9924747e-03,  8.9359090e-02],\n",
            "       ...,\n",
            "       [-1.9141501e-02,  2.0979589e-02,  9.2008024e-02, ...,\n",
            "         5.3811241e-02, -6.5024309e-02,  4.5459982e-02],\n",
            "       [-3.9678225e-03, -1.3068314e-02,  5.0013579e-02, ...,\n",
            "        -1.3181329e-02,  9.7674809e-02,  4.9346499e-03],\n",
            "       [ 3.1204104e-02,  3.6603067e-02, -5.5856563e-02, ...,\n",
            "        -2.1930572e-02,  2.2398544e-02, -2.4582421e-02]], dtype=float32), array([0., 0., 0., 0., 0., 0., 0., 0., 0., 0., 0., 0., 0., 0., 0., 0., 0.,\n",
            "       0., 0., 0., 0., 0., 0., 0., 0., 0., 0., 0., 0., 0., 0., 0., 0., 0.,\n",
            "       0., 0., 0., 0., 0., 0.], dtype=float32)]\n",
            "[array([[ 0.06519569,  0.03651381],\n",
            "       [-0.09895911, -0.04223362],\n",
            "       [-0.09003464, -0.00549625],\n",
            "       [ 0.02690577, -0.0314506 ],\n",
            "       [ 0.00143908, -0.01540665],\n",
            "       [ 0.00802804, -0.01894718],\n",
            "       [ 0.02952628, -0.03801509],\n",
            "       [ 0.02898835, -0.06503084],\n",
            "       [-0.0407913 , -0.03281723],\n",
            "       [ 0.02790526,  0.00276894],\n",
            "       [ 0.01450124, -0.0173194 ],\n",
            "       [-0.04943774,  0.04940596],\n",
            "       [ 0.03422089,  0.05947097],\n",
            "       [ 0.01615731, -0.08235735],\n",
            "       [ 0.00192323, -0.05369661],\n",
            "       [-0.03695264,  0.08367454],\n",
            "       [ 0.02545883,  0.07295162],\n",
            "       [-0.01752632,  0.03040073],\n",
            "       [ 0.03982072, -0.03684026],\n",
            "       [ 0.05484182, -0.03861616],\n",
            "       [ 0.0114997 , -0.03899495],\n",
            "       [ 0.01580497,  0.02351139],\n",
            "       [-0.06062407, -0.10891056],\n",
            "       [-0.05486213, -0.02990247],\n",
            "       [ 0.00654988, -0.07287191],\n",
            "       [-0.00879969, -0.03175293],\n",
            "       [-0.00595057, -0.0377496 ],\n",
            "       [-0.10299487,  0.08654771],\n",
            "       [ 0.03368962, -0.01811326],\n",
            "       [-0.03917848, -0.02696759],\n",
            "       [-0.06110295, -0.0401765 ],\n",
            "       [-0.0328739 ,  0.02799277],\n",
            "       [ 0.045273  ,  0.03358863],\n",
            "       [-0.06663103, -0.11765661],\n",
            "       [-0.00185495, -0.05964724],\n",
            "       [-0.01962999,  0.12395465],\n",
            "       [ 0.01057284, -0.05180993],\n",
            "       [-0.047429  ,  0.02087875],\n",
            "       [-0.06054411, -0.03022215],\n",
            "       [-0.10122579, -0.01774856]], dtype=float32), array([0., 0.], dtype=float32)]\n"
          ],
          "name": "stdout"
        }
      ]
    }
  ]
}